{
 "cells": [
  {
   "cell_type": "markdown",
   "metadata": {},
   "source": [
    "###  Kaue Victor Paz Garcia Mirkai RA:81613004\n"
   ]
  },
  {
   "cell_type": "markdown",
   "metadata": {},
   "source": [
    "1 Implemente um gerador infinito de números primos.\n",
    "Ex:\n",
    "i = 0\n",
    "\n",
    "while i < 10:\n",
    "\n",
    "print(gera_primos())\n",
    "\n",
    "i += 1\n",
    "\n",
    "Este código imprime os 10 primeiros números primos, isto é: 1, 2, 3, 5, 7, 11, 13, 17,\n",
    "\n",
    "19, 23."
   ]
  },
  {
   "cell_type": "code",
   "execution_count": 1,
   "metadata": {},
   "outputs": [],
   "source": [
    "def gerar_primos(limite):\n",
    "    primos = []\n",
    "    for numero in range(2, limite + 1):\n",
    "        for auxiliar in range(2, numero):\n",
    "            if numero % auxiliar == 0:\n",
    "                break\n",
    "        else:\n",
    "            primos.append(numero)\n",
    "    return primos\n",
    "\n",
    "def pergunta_intervalo():\n",
    "    return int(input(\"Digite até que numero você quer ver os primos \"))\n",
    "\n",
    "def main():\n",
    "    return gerar_primos(pergunta_intervalo())"
   ]
  },
  {
   "cell_type": "markdown",
   "metadata": {},
   "source": [
    "2 Implementar um gerador que leia um arquivo e retorne uma lista de tuplas com os dados (o separador de campo do arquivo é virgula), eliminando as linhas vazias. Caso ocorra algum problema, imprima uma mensagem de aviso e encerre o programa.\n",
    "Use o exemplo abaixo como arquivo de entrada: Ex:**\n",
    "    \n",
    "    Entrada:\n",
    "    teste.txt\n",
    "    1,vermelho,2,verde,3,amarelo,4,roxo\n",
    "    5,verde,6,preto,7,laranja,8,amarelo\n",
    "    9,preto,10,roxo,11,roxo,12,branco\n",
    "    \n",
    "    Chamada:\n",
    "    gera_tupla(teste.txt)\n",
    "    \n",
    "    Retorno:\n",
    "    [(1,'vermelho'),(2,'verde'),(3,'amarelo'),(4,'roxo'),(5,'verde\n",
    "    '),(6,'preto'),(7,'laranja'),(8,'amarelo'),(9,'preto'),(10,'ro\n",
    "    xo'),(11,'roxo'),(12,'branco')]"
   ]
  },
  {
   "cell_type": "code",
   "execution_count": 2,
   "metadata": {},
   "outputs": [],
   "source": [
    "def retorna_tupla(nomeArquivo):\n",
    "    tuplas = []\n",
    "    arquivo = open(nomeArquivo)\n",
    "    for linha in arquivo:\n",
    "        tuplas += linha.split(\",\")\n",
    "    tuplas \n",
    "    arquivo.close()\n",
    "    \n",
    "retorna_tupla(\"teste.txt\")"
   ]
  },
  {
   "cell_type": "markdown",
   "metadata": {},
   "source": [
    "3 Implementar dois geradores e rodá-los em paralelo (coroutine) para processar dois\n",
    "arquivos e gerar tuplas. O primeiro é similar ao do exercício 2. O segundo processa\n",
    "outro arquivo, também separado por vírgulas. No final, a lista gerada deve conter\n",
    "tuplas com 3 elementos. Use o exemplo baixo como base:**\n",
    "\n",
    "    Entrada:\n",
    "    teste1.txt\n",
    "    1,vermelho,2,verde,3,amarelo,4,roxo\n",
    "    5,verde,6,preto,7,laranja,8,amarelo\n",
    "    9,preto,10,roxo,11,roxo,12,branco\n",
    "    \n",
    "    teste2.txt\n",
    "    0,1,0,0\n",
    "    1,1,1,0\n",
    "    1,0,0,1\n",
    "    \n",
    "    Chamada:\n",
    "    gera_tupla1(teste1.txt), gera_tupla2(teste2.txt)\n",
    "    \n",
    "    Retorno:\n",
    "    [(1,'vermelho',False),(2,'verde',True),(3,'amarelo',False),(4,\n",
    "    'roxo',False),(5,'verde',True),(6,'preto',True),(7,'laranja',T\n",
    "    rue),(8,'amarelo',False),(9,'preto',True),(10,'roxo',False),(1\n",
    "    1,'roxo',False),(12,'branco',True)]"
   ]
  },
  {
   "cell_type": "markdown",
   "metadata": {},
   "source": [
    "4 Escreva um generator que crie um fluxo infinito de inteiros a partir de um valor\n",
    "inicial dado com passo 5.\n",
    "Ex: gera_inteiros(7) = 12, 17, 22, 27, ..."
   ]
  },
  {
   "cell_type": "code",
   "execution_count": 3,
   "metadata": {},
   "outputs": [],
   "source": [
    "##Gerador infinito\n",
    "def numero5(n):\n",
    "    for x in iter(int, 1):\n",
    "        n=n+5\n",
    "        print(n)\n",
    "        "
   ]
  },
  {
   "cell_type": "code",
   "execution_count": 4,
   "metadata": {},
   "outputs": [
    {
     "name": "stdout",
     "output_type": "stream",
     "text": [
      "12\n",
      "17\n",
      "22\n",
      "27\n",
      "32\n",
      "37\n",
      "42\n",
      "47\n",
      "52\n",
      "57\n",
      "62\n",
      "67\n",
      "72\n",
      "77\n",
      "82\n"
     ]
    }
   ],
   "source": [
    "##gerador com generate\n",
    "def gera_5(num):\n",
    "    ret = num + 5\n",
    "    yield ret\n",
    "    while True:\n",
    "        ret += 5\n",
    "        yield ret\n",
    "    \n",
    "g = gera_5(7)\n",
    "i = 0\n",
    "while i < 15:\n",
    "    print(g.send(None))\n",
    "    i += 1    "
   ]
  },
  {
   "cell_type": "markdown",
   "metadata": {},
   "source": [
    "5 Estenda o generator do exercício 4 em uma coroutine que permita que a mudança\n",
    "do passo seja feita de fora (use send()).**\n",
    "\n",
    "    Ex: gera_inteiros_flex(7) = 12, 17, 22, 24, 26, 28, 30...\n",
    "    Entre 22 e 24 o passo foi alterado de 5 para 2."
   ]
  },
  {
   "cell_type": "code",
   "execution_count": 6,
   "metadata": {},
   "outputs": [
    {
     "name": "stdout",
     "output_type": "stream",
     "text": [
      "12\n",
      "17\n",
      "22\n",
      "27\n",
      "32\n",
      "37\n",
      "42\n",
      "47\n",
      "52\n",
      "57\n",
      "62\n",
      "64\n",
      "66\n",
      "68\n",
      "70\n",
      "72\n",
      "74\n",
      "76\n",
      "78\n",
      "80\n",
      "82\n"
     ]
    }
   ],
   "source": [
    "def gera_5(num):\n",
    "    ret = num + 5\n",
    "    yield ret\n",
    "    while True:\n",
    "        passo = yield\n",
    "        ret += passo\n",
    "        yield ret\n",
    "    \n",
    "g = gera_5(7)\n",
    "print(g.send(None))\n",
    "\n",
    "i = 0\n",
    "while i < 10:\n",
    "    next(g)\n",
    "    print(g.send(5))\n",
    "    i += 1\n",
    "\n",
    "i = 0\n",
    "while i < 10:\n",
    "    next(g)\n",
    "    print(g.send(2))\n",
    "    i += 1"
   ]
  },
  {
   "cell_type": "code",
   "execution_count": null,
   "metadata": {},
   "outputs": [],
   "source": []
  }
 ],
 "metadata": {
  "kernelspec": {
   "display_name": "Python 3",
   "language": "python",
   "name": "python3"
  },
  "language_info": {
   "codemirror_mode": {
    "name": "ipython",
    "version": 3
   },
   "file_extension": ".py",
   "mimetype": "text/x-python",
   "name": "python",
   "nbconvert_exporter": "python",
   "pygments_lexer": "ipython3",
   "version": "3.6.4"
  }
 },
 "nbformat": 4,
 "nbformat_minor": 2
}
